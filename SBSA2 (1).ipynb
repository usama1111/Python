{
 "cells": [
  {
   "cell_type": "markdown",
   "metadata": {},
   "source": [
    "# if Statment"
   ]
  },
  {
   "cell_type": "code",
   "execution_count": null,
   "metadata": {},
   "outputs": [],
   "source": [
    "a= 10\n",
    "b=20"
   ]
  },
  {
   "cell_type": "code",
   "execution_count": null,
   "metadata": {},
   "outputs": [],
   "source": [
    "a!=b"
   ]
  },
  {
   "cell_type": "code",
   "execution_count": null,
   "metadata": {},
   "outputs": [],
   "source": [
    "a=10\n",
    "b=20\n",
    "if a < b:\n",
    "    print(\"if block\")\n",
    "    \n",
    "else:\n",
    "    print(\"else block\")\n",
    "   \n",
    "    "
   ]
  },
  {
   "cell_type": "code",
   "execution_count": 6,
   "metadata": {},
   "outputs": [
    {
     "name": "stdout",
     "output_type": "stream",
     "text": [
      "Enter the temperature today44\n",
      "its hot weather today\n"
     ]
    }
   ],
   "source": [
    "\n",
    "temp = int(input(\"Enter the temperature today\"))# type casting\n",
    "\n",
    "if temp>30:\n",
    "    print(\"its hot weather today\")\n",
    "else:\n",
    "    print(\"normal weather\")"
   ]
  },
  {
   "cell_type": "code",
   "execution_count": 8,
   "metadata": {},
   "outputs": [
    {
     "name": "stdout",
     "output_type": "stream",
     "text": [
      "enter the temperature today65\n",
      "its a hot day today\n"
     ]
    }
   ],
   "source": [
    "temp =int(input(\"enter the temperature today\"))\n",
    "\n",
    "if temp>30:\n",
    "    print(\"its a hot day today\")\n",
    "else:\n",
    "    print(\"its like normal day\")"
   ]
  },
  {
   "cell_type": "code",
   "execution_count": null,
   "metadata": {},
   "outputs": [],
   "source": []
  },
  {
   "cell_type": "markdown",
   "metadata": {},
   "source": [
    "# Nested If's"
   ]
  },
  {
   "cell_type": "code",
   "execution_count": null,
   "metadata": {},
   "outputs": [],
   "source": [
    "cnic = input(\"do you  have cnic?\")\n",
    "if cnic=='yes':\n",
    "    print(\"ander chalay jaen\")\n",
    "    nameinlist = input(\"is my name in list?\")\n",
    "    if nameinlist=='yes':\n",
    "        print(\"please caste your vote\")\n",
    "    else:\n",
    "        print(\"you can not caste vote\")\n",
    "\n",
    "else:\n",
    "    print(\"you cant caste vote\")"
   ]
  },
  {
   "cell_type": "code",
   "execution_count": null,
   "metadata": {},
   "outputs": [],
   "source": [
    "education@piaic.org"
   ]
  },
  {
   "cell_type": "markdown",
   "metadata": {},
   "source": [
    "# if elif else"
   ]
  },
  {
   "cell_type": "code",
   "execution_count": null,
   "metadata": {},
   "outputs": [],
   "source": [
    "marks = int(input(\"Enter your marks :\"))\n",
    "grade = \" \"\n",
    "if marks>=90:\n",
    "     grade = \"A*\"\n",
    "elif marks>=80:\n",
    "     grade = \"A\"\n",
    "elif marks>=70:\n",
    "     grade=\"B\"\n",
    "elif marks>=60:\n",
    "     grade = \"C\"\n",
    "elif marks>=50:\n",
    "     grade = \"D\"\n",
    "else:\n",
    "     grade =\"Ungraded\"\n",
    "    \n",
    "print(f\"your marks are {marks} and your grade is {grade}\")"
   ]
  },
  {
   "cell_type": "code",
   "execution_count": null,
   "metadata": {},
   "outputs": [],
   "source": [
    "cnic = input(\"do you  have cnic?\")\n",
    "# this is a comment \n",
    "\n",
    "nameinlist = input(\"is my name in list?\")\n",
    "\n",
    "if (cnic=='yes') and (nameinlist=='yes'):\n",
    "    print(\"caste your vote\")# this is  a print function\n",
    "                            # this empty line\n",
    "else:\n",
    "    '''dfkdfkdjfkdfkjdkjfdkfjkdjfkd\n",
    "    jfkdjfkdjfkjdfkjd\n",
    "    kfjdkjfkd\n",
    "    jfkjdfkjd\n",
    "    \n",
    "    k\n",
    "    \n",
    "    fjdkjf'''\n",
    "    print(\"you can not\")"
   ]
  },
  {
   "cell_type": "markdown",
   "metadata": {},
   "source": [
    "# list"
   ]
  },
  {
   "cell_type": "code",
   "execution_count": null,
   "metadata": {},
   "outputs": [],
   "source": [
    "#print(\"helo\")"
   ]
  },
  {
   "cell_type": "code",
   "execution_count": null,
   "metadata": {},
   "outputs": [],
   "source": [
    "# print(\"helo\")\n",
    "# print(\"helo\")\n",
    "# print(\"helo\")\n",
    "# print(\"helo\")\n",
    "# print(\"helo\")"
   ]
  },
  {
   "cell_type": "code",
   "execution_count": null,
   "metadata": {},
   "outputs": [],
   "source": [
    "students = [\"asad\", 'nasir', 'aisha', 'fatima']\n",
    "index         0        1        2        3"
   ]
  },
  {
   "cell_type": "code",
   "execution_count": null,
   "metadata": {},
   "outputs": [],
   "source": [
    "students[1]"
   ]
  },
  {
   "cell_type": "code",
   "execution_count": null,
   "metadata": {},
   "outputs": [],
   "source": [
    "students[4]"
   ]
  },
  {
   "cell_type": "code",
   "execution_count": null,
   "metadata": {},
   "outputs": [],
   "source": [
    "list1 = ['strig', 34, 34.6, True]\n",
    "list1"
   ]
  },
  {
   "cell_type": "code",
   "execution_count": null,
   "metadata": {},
   "outputs": [],
   "source": [
    "students"
   ]
  },
  {
   "cell_type": "code",
   "execution_count": null,
   "metadata": {},
   "outputs": [],
   "source": [
    "students.append(\"hussain\")\n",
    "students"
   ]
  },
  {
   "cell_type": "code",
   "execution_count": null,
   "metadata": {},
   "outputs": [],
   "source": [
    "students.insert(3,\"abcd\")"
   ]
  },
  {
   "cell_type": "code",
   "execution_count": null,
   "metadata": {},
   "outputs": [],
   "source": [
    "students"
   ]
  },
  {
   "cell_type": "code",
   "execution_count": null,
   "metadata": {},
   "outputs": [],
   "source": [
    "del students[3]"
   ]
  },
  {
   "cell_type": "code",
   "execution_count": null,
   "metadata": {},
   "outputs": [],
   "source": [
    "students"
   ]
  },
  {
   "cell_type": "code",
   "execution_count": null,
   "metadata": {},
   "outputs": [],
   "source": [
    "students[2]=\"komal\""
   ]
  },
  {
   "cell_type": "code",
   "execution_count": null,
   "metadata": {},
   "outputs": [],
   "source": [
    "students"
   ]
  },
  {
   "cell_type": "code",
   "execution_count": null,
   "metadata": {},
   "outputs": [],
   "source": []
  },
  {
   "cell_type": "code",
   "execution_count": null,
   "metadata": {},
   "outputs": [],
   "source": []
  },
  {
   "cell_type": "code",
   "execution_count": null,
   "metadata": {},
   "outputs": [],
   "source": []
  }
 ],
 "metadata": {
  "kernelspec": {
   "display_name": "Python 3",
   "language": "python",
   "name": "python3"
  },
  "language_info": {
   "codemirror_mode": {
    "name": "ipython",
    "version": 3
   },
   "file_extension": ".py",
   "mimetype": "text/x-python",
   "name": "python",
   "nbconvert_exporter": "python",
   "pygments_lexer": "ipython3",
   "version": "3.7.3"
  }
 },
 "nbformat": 4,
 "nbformat_minor": 2
}
