{
 "cells": [
  {
   "cell_type": "code",
   "execution_count": 4,
   "metadata": {},
   "outputs": [
    {
     "name": "stdout",
     "output_type": "stream",
     "text": [
      "enter a number\n",
      "4\n",
      "a is not 3\n"
     ]
    }
   ],
   "source": [
    "a=int(input(\"enter a number\\n\")) \n",
    "if a ==3:\n",
    "    print(\"a is 3\")\n",
    "else:\n",
    "    print(\"a is not 3\")"
   ]
  },
  {
   "cell_type": "code",
   "execution_count": 7,
   "metadata": {},
   "outputs": [
    {
     "name": "stdout",
     "output_type": "stream",
     "text": [
      "2\n",
      "4\n",
      "6\n",
      "8\n"
     ]
    }
   ],
   "source": [
    "for a in range(2,10,2):\n",
    "    print(a)"
   ]
  },
  {
   "cell_type": "code",
   "execution_count": 9,
   "metadata": {},
   "outputs": [
    {
     "name": "stdout",
     "output_type": "stream",
     "text": [
      "USAMA\n"
     ]
    }
   ],
   "source": [
    "print(\"usama\".swapcase())"
   ]
  },
  {
   "cell_type": "code",
   "execution_count": 19,
   "metadata": {},
   "outputs": [
    {
     "name": "stdout",
     "output_type": "stream",
     "text": [
      "hello\n"
     ]
    }
   ],
   "source": [
    "def usama():\n",
    "    a=\"hello\"\n",
    "    print(a)\n",
    "usama()"
   ]
  },
  {
   "cell_type": "code",
   "execution_count": 30,
   "metadata": {},
   "outputs": [
    {
     "name": "stdout",
     "output_type": "stream",
     "text": [
      "enter a number2\n",
      "enter a number2\n",
      "the multiplication is  4\n",
      "the division is  1.0\n"
     ]
    }
   ],
   "source": [
    "def cal():\n",
    "    a=int(input(\"enter a number\"))\n",
    "    b=int(input(\"enter a number\"))\n",
    "    c=a*b\n",
    "    d=a-b\n",
    "    f=a/b\n",
    "    print(\"the multiplication is \",c )\n",
    "    print(\"the division is \",f)\n",
    "    \n",
    "cal()    "
   ]
  },
  {
   "cell_type": "code",
   "execution_count": null,
   "metadata": {},
   "outputs": [],
   "source": []
  }
 ],
 "metadata": {
  "kernelspec": {
   "display_name": "Python 3",
   "language": "python",
   "name": "python3"
  },
  "language_info": {
   "codemirror_mode": {
    "name": "ipython",
    "version": 3
   },
   "file_extension": ".py",
   "mimetype": "text/x-python",
   "name": "python",
   "nbconvert_exporter": "python",
   "pygments_lexer": "ipython3",
   "version": "3.7.3"
  }
 },
 "nbformat": 4,
 "nbformat_minor": 2
}
