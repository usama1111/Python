{
 "cells": [
  {
   "cell_type": "code",
   "execution_count": 26,
   "metadata": {},
   "outputs": [
    {
     "name": "stdout",
     "output_type": "stream",
     "text": [
      "{'brand': 'suzuki', 'year': 2019, 'ownwer': 'bantoo', 'colour': 'red'}\n"
     ]
    }
   ],
   "source": [
    "this_dict={\"brand\" :\"ford\",\n",
    "           \"year\" : \"2018\",\n",
    "            \"ownwer\" : \"bantoo\"}\n",
    "          \n",
    "this_dict[\"year\"] = 2019 \n",
    "this_dict[\"brand\"] = \"suzuki\"\n",
    "\n",
    "this_dict[\"colour\"] = \"red\"\n",
    "print(this_dict)"
   ]
  },
  {
   "cell_type": "code",
   "execution_count": 42,
   "metadata": {},
   "outputs": [
    {
     "name": "stdout",
     "output_type": "stream",
     "text": [
      "{'owner': 'usama', 'model': '1994', 'brand': 'suzuki'}\n"
     ]
    }
   ],
   "source": [
    "dict={\"owner\" : \"usama\",\n",
    "       \"model\" : \"1994\",\n",
    "        \"brand\" : \"suzuki\"}\n",
    "\n",
    "usama_dict = dict.copy()\n",
    "print(usama_dict)"
   ]
  },
  {
   "cell_type": "code",
   "execution_count": 5,
   "metadata": {},
   "outputs": [
    {
     "name": "stdout",
     "output_type": "stream",
     "text": [
      "3\n"
     ]
    }
   ],
   "source": [
    "fruits = (\"aplle\" , \"banana\" , \"mango\")\n",
    "print(len(fruits))"
   ]
  },
  {
   "cell_type": "code",
   "execution_count": 9,
   "metadata": {},
   "outputs": [
    {
     "name": "stdout",
     "output_type": "stream",
     "text": [
      "hello world\n"
     ]
    }
   ],
   "source": [
    "a = \"hello world\"\n",
    "print(a.strip())"
   ]
  },
  {
   "cell_type": "code",
   "execution_count": 2,
   "metadata": {},
   "outputs": [
    {
     "name": "stdout",
     "output_type": "stream",
     "text": [
      "[1, 2, 3, 4, 5, 6]\n"
     ]
    }
   ],
   "source": [
    "a = [1 ,2 ,3 ,4 ,5 ,6]\n",
    "print(a)\n"
   ]
  },
  {
   "cell_type": "code",
   "execution_count": 3,
   "metadata": {},
   "outputs": [
    {
     "name": "stdout",
     "output_type": "stream",
     "text": [
      "[1, 2, 3, 4, 5, 6] good morning\n"
     ]
    }
   ],
   "source": [
    "print(a,\"good morning\")"
   ]
  },
  {
   "cell_type": "code",
   "execution_count": 4,
   "metadata": {},
   "outputs": [
    {
     "name": "stdout",
     "output_type": "stream",
     "text": [
      "1 2 3 4 5 [1, 2, 3, 4, 5, 6]\n"
     ]
    }
   ],
   "source": [
    "print(1,2,3,4,5 , a)"
   ]
  },
  {
   "cell_type": "code",
   "execution_count": null,
   "metadata": {},
   "outputs": [],
   "source": []
  }
 ],
 "metadata": {
  "kernelspec": {
   "display_name": "Python 3",
   "language": "python",
   "name": "python3"
  },
  "language_info": {
   "codemirror_mode": {
    "name": "ipython",
    "version": 3
   },
   "file_extension": ".py",
   "mimetype": "text/x-python",
   "name": "python",
   "nbconvert_exporter": "python",
   "pygments_lexer": "ipython3",
   "version": "3.7.3"
  }
 },
 "nbformat": 4,
 "nbformat_minor": 2
}
