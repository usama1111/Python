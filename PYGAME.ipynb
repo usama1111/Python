{
 "cells": [
  {
   "cell_type": "code",
   "execution_count": null,
   "metadata": {},
   "outputs": [],
   "source": [
    "import pygame\n",
    "pygame.init()\n",
    "win=pygame.display.set_mode((500 ,500))\n",
    "pygame.display.set_caption(\"first game\")\n",
    "\n",
    "x=50\n",
    "y=100\n",
    "width=50\n",
    "height=50\n",
    "vel=5\n",
    "\n",
    "run= True\n",
    "while True:\n",
    "    pygame.time.delay(100)\n",
    "    for event in pygame.event.get():\n",
    "        if event.type ==pygame.QUIT:\n",
    "            run=False\n",
    "        keys = pygame.key.get_pressed()\n",
    "        if keys[pygame.K_RIGHT]:\n",
    "                x += vel\n",
    "        if keys[pygame.K_LEFT]:\n",
    "               x -= vel\n",
    "        if keys[pygame.K_UP]:\n",
    "            y -=vel\n",
    "        if keys[pygame.K_DOWN]:\n",
    "            y +=vel\n",
    "        win.fill((2,4,5)) \n",
    "        pygame.draw.rect(win,(100,199,100), (x,y,width,height))\n",
    "        pygame.display.update()\n",
    "pygame.quit()"
   ]
  },
  {
   "cell_type": "code",
   "execution_count": null,
   "metadata": {},
   "outputs": [],
   "source": []
  },
  {
   "cell_type": "code",
   "execution_count": null,
   "metadata": {},
   "outputs": [],
   "source": []
  }
 ],
 "metadata": {
  "kernelspec": {
   "display_name": "Python 3",
   "language": "python",
   "name": "python3"
  },
  "language_info": {
   "codemirror_mode": {
    "name": "ipython",
    "version": 3
   },
   "file_extension": ".py",
   "mimetype": "text/x-python",
   "name": "python",
   "nbconvert_exporter": "python",
   "pygments_lexer": "ipython3",
   "version": "3.7.4"
  }
 },
 "nbformat": 4,
 "nbformat_minor": 2
}
