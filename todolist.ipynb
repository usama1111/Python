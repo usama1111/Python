{
 "cells": [
  {
   "cell_type": "code",
   "execution_count": 6,
   "metadata": {},
   "outputs": [
    {
     "name": "stdout",
     "output_type": "stream",
     "text": [
      "enter completed task :sehri\n",
      "your task is not in list\n"
     ]
    }
   ],
   "source": [
    "to_dolist = ['cooking' , 'bath' , 'namaz' , 'iftar' , 'playing cricket']\n",
    "completed_tasklist = []\n",
    "answer = str(input(\"enter completed task :\"))\n",
    "\n",
    "if answer in to_dolist:\n",
    "    x = to_dolist.index(answer)\n",
    "\n",
    "    to_dolist.pop(x)\n",
    "    completed_tasklist.append(answer)\n",
    "    print(\"to_do : , to_dolist\")\n",
    "    print(\"completed_task : \",completed_tasklist )\n",
    "else:\n",
    "    print(\"your task is not in list\")\n",
    "    "
   ]
  },
  {
   "cell_type": "code",
   "execution_count": null,
   "metadata": {},
   "outputs": [],
   "source": []
  },
  {
   "cell_type": "code",
   "execution_count": null,
   "metadata": {},
   "outputs": [],
   "source": []
  }
 ],
 "metadata": {
  "kernelspec": {
   "display_name": "Python 3",
   "language": "python",
   "name": "python3"
  },
  "language_info": {
   "codemirror_mode": {
    "name": "ipython",
    "version": 3
   },
   "file_extension": ".py",
   "mimetype": "text/x-python",
   "name": "python",
   "nbconvert_exporter": "python",
   "pygments_lexer": "ipython3",
   "version": "3.7.3"
  }
 },
 "nbformat": 4,
 "nbformat_minor": 2
}
