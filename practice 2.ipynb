{
 "cells": [
  {
   "cell_type": "code",
   "execution_count": 3,
   "metadata": {},
   "outputs": [
    {
     "name": "stdout",
     "output_type": "stream",
     "text": [
      "enter you marks: 100\n",
      "A\n"
     ]
    }
   ],
   "source": [
    "grade =int(input('enter you marks: '))\n",
    "if grade >= 90:\n",
    "    print ('A')\n",
    "elif grade >= 80:\n",
    "    print('B')\n",
    "elif grade >= 70:\n",
    "    print ('C')\n",
    "elif grade >= 60:\n",
    "    print ('D')\n",
    "else:\n",
    "    print ('F')\n"
   ]
  },
  {
   "cell_type": "code",
   "execution_count": null,
   "metadata": {},
   "outputs": [],
   "source": [
    "password =int(input('enter your password'))\n",
    "if password == 1234 :\n",
    "    print ('welcome sir')\n",
    "else:\n",
    "    print ('incorrect password')"
   ]
  },
  {
   "cell_type": "code",
   "execution_count": 2,
   "metadata": {},
   "outputs": [
    {
     "name": "stdout",
     "output_type": "stream",
     "text": [
      "enter your emailusama123@gmail.com\n",
      "enter password\n",
      "enter your password1234\n",
      "welcome sir\n"
     ]
    }
   ],
   "source": [
    "email=input('enter your email')\n",
    "if email == 'usama123@gmail.com' :\n",
    "    print ('enter password')\n",
    "else:\n",
    "    print ('incorrect email')\n",
    "    \n",
    "password = int(input('enter your password'))\n",
    "\n",
    "if password == 1234 :\n",
    "        print ('welcome sir') \n",
    "        \n",
    "else:\n",
    "        print ('try again')\n",
    "    \n",
    "            "
   ]
  },
  {
   "cell_type": "code",
   "execution_count": null,
   "metadata": {},
   "outputs": [],
   "source": []
  },
  {
   "cell_type": "code",
   "execution_count": null,
   "metadata": {},
   "outputs": [],
   "source": []
  }
 ],
 "metadata": {
  "kernelspec": {
   "display_name": "Python 3",
   "language": "python",
   "name": "python3"
  },
  "language_info": {
   "codemirror_mode": {
    "name": "ipython",
    "version": 3
   },
   "file_extension": ".py",
   "mimetype": "text/x-python",
   "name": "python",
   "nbconvert_exporter": "python",
   "pygments_lexer": "ipython3",
   "version": "3.7.3"
  }
 },
 "nbformat": 4,
 "nbformat_minor": 2
}
